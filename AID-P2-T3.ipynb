{
 "cells": [
  {
   "cell_type": "markdown",
   "id": "dc8e8062",
   "metadata": {},
   "source": [
    "#Ejercicio 1\n",
    "#Escribir un programa que pregunte al usuario por las ventas de un rango de años y muestre por pantalla una serie con los datos de las ventas indexada por los años, antes y después de aplicarles un descuento del 10%."
   ]
  },
  {
   "cell_type": "code",
   "execution_count": null,
   "id": "e7484c54",
   "metadata": {},
   "outputs": [],
   "source": [
    "import pandas as pd"
   ]
  },
  {
   "cell_type": "code",
   "execution_count": null,
   "id": "dfc94a01",
   "metadata": {},
   "outputs": [],
   "source": [
    "inicial = int(input('Escriba el año inicial: '))\n",
    "final = int(input('Escriba el año final: '))\n",
    "venta = {}\n",
    "for i in range(inicial, final+1):\n",
    "    venta[i] = float(input('Escriba las ventas anuales,' + str(i) +': '))\n",
    "venta = pd.Series(venta)\n",
    "print('Venta\\n', venta)\n",
    "print('Venta con descuento\\n', venta*0.9)"
   ]
  },
  {
   "cell_type": "code",
   "execution_count": null,
   "id": "537d89c1",
   "metadata": {},
   "outputs": [],
   "source": []
  },
  {
   "cell_type": "markdown",
   "id": "5a25c7a4",
   "metadata": {},
   "source": [
    "#Ejercicio 2\n",
    "#Escribir una función que reciba un diccionario con las notas de los alumnos en curso en un examen y devuelva una serie con la nota mínima, la máxima, media y la desviación típica."
   ]
  },
  {
   "cell_type": "code",
   "execution_count": null,
   "id": "db513c4c",
   "metadata": {},
   "outputs": [],
   "source": [
    "import pandas as pd\n"
   ]
  },
  {
   "cell_type": "code",
   "execution_count": null,
   "id": "736ef862",
   "metadata": {},
   "outputs": [],
   "source": [
    "def diccionario(notas):\n",
    "    notas = pd.serie(notas)\n",
    "    estadisticas = pd.serie([notas.min(), notas.max(), \n",
    "                              notas.mean(), notas.std()], index=['Min', 'Max', 'Media', 'Desviación típica'])\n",
    "    return estadisticas\n",
    "\n",
    "notas = {'Marcelo':10, 'Reyna':9.5, 'Caleb':7, \n",
    "         'Itzayane': 9, 'Alessandra': 8.5}\n",
    "print(diccionario(notas))"
   ]
  },
  {
   "cell_type": "code",
   "execution_count": null,
   "id": "3210330c",
   "metadata": {},
   "outputs": [],
   "source": []
  },
  {
   "cell_type": "markdown",
   "id": "25b04619",
   "metadata": {},
   "source": [
    "#Ejercicio 3\n",
    "Escribir una función que reciba undiccionario con las notas de los alumnos en curso en un examen y devuelva una serie con las notas de los alumnos aprobados ordenadas de mayor a menor."
   ]
  },
  {
   "cell_type": "code",
   "execution_count": null,
   "id": "51afe867",
   "metadata": {},
   "outputs": [],
   "source": [
    "import pandas as pd"
   ]
  },
  {
   "cell_type": "code",
   "execution_count": null,
   "id": "3279de60",
   "metadata": {},
   "outputs": [],
   "source": [
    "def diccionario2(notas):\n",
    "    notas = pd.Series(notas)\n",
    "     \n",
    "    return notas[notas >= 5].sort_values(ascending=False)\n",
    "notas = {'Marcelo':10, 'Reyna':9.5, 'Caleb':7, \n",
    "         'Itzayane': 9, 'Alessandra': 8.5}\n",
    "print(diccionario2(notas))"
   ]
  },
  {
   "cell_type": "code",
   "execution_count": null,
   "id": "84e13a2f",
   "metadata": {},
   "outputs": [],
   "source": []
  },
  {
   "cell_type": "markdown",
   "id": "be9bcf2d",
   "metadata": {},
   "source": [
    "#Ejercicio 4\n",
    "#Escribir programa que genere y muestre por pantalla un DataFrame con los datos de la tabla siguiente:\n",
    "#Mes      Ventas  Gastos \n",
    "#Enero    30500   22000\n",
    "#Febrero  35600   23400\n",
    "#Marzo    28300   18100\n",
    "#Abril    33900   20700\n"
   ]
  },
  {
   "cell_type": "code",
   "execution_count": null,
   "id": "134a1065",
   "metadata": {},
   "outputs": [],
   "source": [
    "import pandas as pd"
   ]
  },
  {
   "cell_type": "code",
   "execution_count": null,
   "id": "41168823",
   "metadata": {},
   "outputs": [],
   "source": [
    "diccionarioD = {'Mes':['Enero', 'Febrero', 'Marzo', 'Abril'], \n",
    "                   'Ventas':[30500, 35600, 28300, 33900], 'Gastos':[22000, 23400, 18100, 20700]}\n",
    "form = pd.DataFrame(diccionarioD)\n",
    "print(form)"
   ]
  },
  {
   "cell_type": "code",
   "execution_count": null,
   "id": "efe30d2a",
   "metadata": {},
   "outputs": [],
   "source": []
  },
  {
   "cell_type": "markdown",
   "id": "35ec9a65",
   "metadata": {},
   "source": [
    "# Ejercicio 5\n",
    "#Escribir una función que reciba un DataFrame con el formato del ejercicio anterior, una lista de meses, ydevuelva el balance (ventas -gastos) total en los meses indicados."
   ]
  },
  {
   "cell_type": "code",
   "execution_count": null,
   "id": "946f01ac",
   "metadata": {},
   "outputs": [],
   "source": [
    "import pandas as pd"
   ]
  },
  {
   "cell_type": "code",
   "execution_count": null,
   "id": "d1323d1a",
   "metadata": {},
   "outputs": [],
   "source": [
    "diccionarioD= {'Mes':['Enero', 'Febrero', 'Marzo', 'Abril'], \n",
    "                   'Ventas':[30500, 35600, 28300, 33900], \n",
    "                   'Gastos':[22000, 23400, 18100, 20700]}\n",
    "\n",
    "form = pd.DataFrame(diccionario_dat)\n",
    "\n",
    "def balance(form, meses):\n",
    "    form['Balance'] = form.Ventas - form.Gastos\n",
    "    return form[form.Mes.isin(meses)].Balance.sum()\n",
    "\n",
    "print(balance(form, ['Enero','Abril']))"
   ]
  }
 ],
 "metadata": {
  "kernelspec": {
   "display_name": "Python 3",
   "language": "python",
   "name": "python3"
  },
  "language_info": {
   "codemirror_mode": {
    "name": "ipython",
    "version": 3
   },
   "file_extension": ".py",
   "mimetype": "text/x-python",
   "name": "python",
   "nbconvert_exporter": "python",
   "pygments_lexer": "ipython3",
   "version": "3.8.8"
  }
 },
 "nbformat": 4,
 "nbformat_minor": 5
}
